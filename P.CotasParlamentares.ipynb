{
 "cells": [
  {
   "cell_type": "code",
   "execution_count": 1,
   "id": "167ade88-f56f-46d6-97f0-b2129d2ad0bb",
   "metadata": {},
   "outputs": [],
   "source": [
    "# Importação da biblioteca pandas e visualização do arquivo"
   ]
  },
  {
   "cell_type": "code",
   "execution_count": 2,
   "id": "9ce99550-ed4a-485d-b762-d7ac1fc4f9f5",
   "metadata": {},
   "outputs": [
    {
     "data": {
      "text/html": [
       "<div>\n",
       "<style scoped>\n",
       "    .dataframe tbody tr th:only-of-type {\n",
       "        vertical-align: middle;\n",
       "    }\n",
       "\n",
       "    .dataframe tbody tr th {\n",
       "        vertical-align: top;\n",
       "    }\n",
       "\n",
       "    .dataframe thead th {\n",
       "        text-align: right;\n",
       "    }\n",
       "</style>\n",
       "<table border=\"1\" class=\"dataframe\">\n",
       "  <thead>\n",
       "    <tr style=\"text-align: right;\">\n",
       "      <th></th>\n",
       "      <th>codlegislatura</th>\n",
       "      <th>datemissao</th>\n",
       "      <th>idedocumento</th>\n",
       "      <th>idecadastro</th>\n",
       "      <th>indtipodocumento</th>\n",
       "      <th>nucarteiraparlamentar</th>\n",
       "      <th>nudeputadoid</th>\n",
       "      <th>nulegislatura</th>\n",
       "      <th>numano</th>\n",
       "      <th>numespecificacaosubcota</th>\n",
       "      <th>...</th>\n",
       "      <th>txtdescricao</th>\n",
       "      <th>txtdescricaoespecificacao</th>\n",
       "      <th>txtfornecedor</th>\n",
       "      <th>txtnumero</th>\n",
       "      <th>txtpassageiro</th>\n",
       "      <th>txttrecho</th>\n",
       "      <th>vlrdocumento</th>\n",
       "      <th>vlrglosa</th>\n",
       "      <th>vlrliquido</th>\n",
       "      <th>vlrrestituicao</th>\n",
       "    </tr>\n",
       "  </thead>\n",
       "  <tbody>\n",
       "    <tr>\n",
       "      <th>0</th>\n",
       "      <td>56</td>\n",
       "      <td>2020-02-01 00:00:00</td>\n",
       "      <td>7007086</td>\n",
       "      <td>NaN</td>\n",
       "      <td>0</td>\n",
       "      <td>NaN</td>\n",
       "      <td>2442</td>\n",
       "      <td>2019</td>\n",
       "      <td>2020</td>\n",
       "      <td>0</td>\n",
       "      <td>...</td>\n",
       "      <td>DIVULGAÇÃO DA ATIVIDADE PARLAMENTAR.</td>\n",
       "      <td>NaN</td>\n",
       "      <td>CONTENT ASSESSORIA LTDA - ME</td>\n",
       "      <td>432</td>\n",
       "      <td>NaN</td>\n",
       "      <td>NaN</td>\n",
       "      <td>998.0</td>\n",
       "      <td>0.0</td>\n",
       "      <td>998.0</td>\n",
       "      <td>NaN</td>\n",
       "    </tr>\n",
       "    <tr>\n",
       "      <th>1</th>\n",
       "      <td>56</td>\n",
       "      <td>2020-02-13 00:00:00</td>\n",
       "      <td>7017162</td>\n",
       "      <td>NaN</td>\n",
       "      <td>4</td>\n",
       "      <td>NaN</td>\n",
       "      <td>2442</td>\n",
       "      <td>2019</td>\n",
       "      <td>2020</td>\n",
       "      <td>0</td>\n",
       "      <td>...</td>\n",
       "      <td>DIVULGAÇÃO DA ATIVIDADE PARLAMENTAR.</td>\n",
       "      <td>NaN</td>\n",
       "      <td>METROPOLE INTERATIVA INFORMATICA LTDA</td>\n",
       "      <td>46</td>\n",
       "      <td>NaN</td>\n",
       "      <td>NaN</td>\n",
       "      <td>4920.0</td>\n",
       "      <td>0.0</td>\n",
       "      <td>4920.0</td>\n",
       "      <td>NaN</td>\n",
       "    </tr>\n",
       "    <tr>\n",
       "      <th>2</th>\n",
       "      <td>56</td>\n",
       "      <td>2020-02-04 00:00:00</td>\n",
       "      <td>7007754</td>\n",
       "      <td>NaN</td>\n",
       "      <td>4</td>\n",
       "      <td>NaN</td>\n",
       "      <td>2442</td>\n",
       "      <td>2019</td>\n",
       "      <td>2020</td>\n",
       "      <td>0</td>\n",
       "      <td>...</td>\n",
       "      <td>FORNECIMENTO DE ALIMENTAÇÃO DO PARLAMENTAR</td>\n",
       "      <td>NaN</td>\n",
       "      <td>AFC ALIMENTOS LTDA</td>\n",
       "      <td>306</td>\n",
       "      <td>NaN</td>\n",
       "      <td>NaN</td>\n",
       "      <td>511.0</td>\n",
       "      <td>0.0</td>\n",
       "      <td>511.0</td>\n",
       "      <td>NaN</td>\n",
       "    </tr>\n",
       "    <tr>\n",
       "      <th>3</th>\n",
       "      <td>56</td>\n",
       "      <td>2020-02-18 00:00:00</td>\n",
       "      <td>7018634</td>\n",
       "      <td>NaN</td>\n",
       "      <td>4</td>\n",
       "      <td>NaN</td>\n",
       "      <td>2442</td>\n",
       "      <td>2019</td>\n",
       "      <td>2020</td>\n",
       "      <td>0</td>\n",
       "      <td>...</td>\n",
       "      <td>FORNECIMENTO DE ALIMENTAÇÃO DO PARLAMENTAR</td>\n",
       "      <td>NaN</td>\n",
       "      <td>AFC ALIMENTOS LTDA</td>\n",
       "      <td>311</td>\n",
       "      <td>NaN</td>\n",
       "      <td>NaN</td>\n",
       "      <td>186.0</td>\n",
       "      <td>0.0</td>\n",
       "      <td>186.0</td>\n",
       "      <td>NaN</td>\n",
       "    </tr>\n",
       "    <tr>\n",
       "      <th>4</th>\n",
       "      <td>56</td>\n",
       "      <td>2020-02-11 00:00:00</td>\n",
       "      <td>7011106</td>\n",
       "      <td>NaN</td>\n",
       "      <td>4</td>\n",
       "      <td>NaN</td>\n",
       "      <td>2442</td>\n",
       "      <td>2019</td>\n",
       "      <td>2020</td>\n",
       "      <td>0</td>\n",
       "      <td>...</td>\n",
       "      <td>FORNECIMENTO DE ALIMENTAÇÃO DO PARLAMENTAR</td>\n",
       "      <td>NaN</td>\n",
       "      <td>ARTESANAL SERVICOS DE ALIMENTACAO E BUFFET EIRELI</td>\n",
       "      <td>23</td>\n",
       "      <td>NaN</td>\n",
       "      <td>NaN</td>\n",
       "      <td>740.0</td>\n",
       "      <td>0.0</td>\n",
       "      <td>740.0</td>\n",
       "      <td>NaN</td>\n",
       "    </tr>\n",
       "  </tbody>\n",
       "</table>\n",
       "<p>5 rows × 29 columns</p>\n",
       "</div>"
      ],
      "text/plain": [
       "   codlegislatura           datemissao  idedocumento  idecadastro  \\\n",
       "0              56  2020-02-01 00:00:00       7007086          NaN   \n",
       "1              56  2020-02-13 00:00:00       7017162          NaN   \n",
       "2              56  2020-02-04 00:00:00       7007754          NaN   \n",
       "3              56  2020-02-18 00:00:00       7018634          NaN   \n",
       "4              56  2020-02-11 00:00:00       7011106          NaN   \n",
       "\n",
       "   indtipodocumento  nucarteiraparlamentar  nudeputadoid  nulegislatura  \\\n",
       "0                 0                    NaN          2442           2019   \n",
       "1                 4                    NaN          2442           2019   \n",
       "2                 4                    NaN          2442           2019   \n",
       "3                 4                    NaN          2442           2019   \n",
       "4                 4                    NaN          2442           2019   \n",
       "\n",
       "   numano  numespecificacaosubcota  ...  \\\n",
       "0    2020                        0  ...   \n",
       "1    2020                        0  ...   \n",
       "2    2020                        0  ...   \n",
       "3    2020                        0  ...   \n",
       "4    2020                        0  ...   \n",
       "\n",
       "                                 txtdescricao  txtdescricaoespecificacao  \\\n",
       "0        DIVULGAÇÃO DA ATIVIDADE PARLAMENTAR.                        NaN   \n",
       "1        DIVULGAÇÃO DA ATIVIDADE PARLAMENTAR.                        NaN   \n",
       "2  FORNECIMENTO DE ALIMENTAÇÃO DO PARLAMENTAR                        NaN   \n",
       "3  FORNECIMENTO DE ALIMENTAÇÃO DO PARLAMENTAR                        NaN   \n",
       "4  FORNECIMENTO DE ALIMENTAÇÃO DO PARLAMENTAR                        NaN   \n",
       "\n",
       "                                       txtfornecedor  txtnumero  \\\n",
       "0                       CONTENT ASSESSORIA LTDA - ME        432   \n",
       "1              METROPOLE INTERATIVA INFORMATICA LTDA         46   \n",
       "2                                 AFC ALIMENTOS LTDA        306   \n",
       "3                                 AFC ALIMENTOS LTDA        311   \n",
       "4  ARTESANAL SERVICOS DE ALIMENTACAO E BUFFET EIRELI         23   \n",
       "\n",
       "   txtpassageiro txttrecho vlrdocumento vlrglosa  vlrliquido vlrrestituicao  \n",
       "0            NaN       NaN        998.0      0.0       998.0            NaN  \n",
       "1            NaN       NaN       4920.0      0.0      4920.0            NaN  \n",
       "2            NaN       NaN        511.0      0.0       511.0            NaN  \n",
       "3            NaN       NaN        186.0      0.0       186.0            NaN  \n",
       "4            NaN       NaN        740.0      0.0       740.0            NaN  \n",
       "\n",
       "[5 rows x 29 columns]"
      ]
     },
     "metadata": {},
     "output_type": "display_data"
    }
   ],
   "source": [
    "import pandas as pd\n",
    "dataframe = pd.read_csv('cota-parlamentar.csv')\n",
    "display(dataframe[:5])"
   ]
  },
  {
   "cell_type": "code",
   "execution_count": 3,
   "id": "bf279eee-59c8-48e4-9626-f80f9aeaf367",
   "metadata": {},
   "outputs": [],
   "source": [
    "# Remoção das colunas desnecessárias para análise"
   ]
  },
  {
   "cell_type": "code",
   "execution_count": 4,
   "id": "699752d4-cda2-42fd-8f3e-35b25821c02b",
   "metadata": {},
   "outputs": [
    {
     "data": {
      "text/html": [
       "<div>\n",
       "<style scoped>\n",
       "    .dataframe tbody tr th:only-of-type {\n",
       "        vertical-align: middle;\n",
       "    }\n",
       "\n",
       "    .dataframe tbody tr th {\n",
       "        vertical-align: top;\n",
       "    }\n",
       "\n",
       "    .dataframe thead th {\n",
       "        text-align: right;\n",
       "    }\n",
       "</style>\n",
       "<table border=\"1\" class=\"dataframe\">\n",
       "  <thead>\n",
       "    <tr style=\"text-align: right;\">\n",
       "      <th></th>\n",
       "      <th>datemissao</th>\n",
       "      <th>sgpartido</th>\n",
       "      <th>sguf</th>\n",
       "      <th>txnomeparlamentar</th>\n",
       "      <th>txtdescricao</th>\n",
       "      <th>txtdescricaoespecificacao</th>\n",
       "      <th>txtfornecedor</th>\n",
       "      <th>vlrdocumento</th>\n",
       "      <th>vlrglosa</th>\n",
       "    </tr>\n",
       "  </thead>\n",
       "  <tbody>\n",
       "    <tr>\n",
       "      <th>0</th>\n",
       "      <td>2020-02-01 00:00:00</td>\n",
       "      <td>PSDB</td>\n",
       "      <td>NaN</td>\n",
       "      <td>LIDERANÇA DO PSDB</td>\n",
       "      <td>DIVULGAÇÃO DA ATIVIDADE PARLAMENTAR.</td>\n",
       "      <td>NaN</td>\n",
       "      <td>CONTENT ASSESSORIA LTDA - ME</td>\n",
       "      <td>998.0</td>\n",
       "      <td>0.0</td>\n",
       "    </tr>\n",
       "    <tr>\n",
       "      <th>1</th>\n",
       "      <td>2020-02-13 00:00:00</td>\n",
       "      <td>PSDB</td>\n",
       "      <td>NaN</td>\n",
       "      <td>LIDERANÇA DO PSDB</td>\n",
       "      <td>DIVULGAÇÃO DA ATIVIDADE PARLAMENTAR.</td>\n",
       "      <td>NaN</td>\n",
       "      <td>METROPOLE INTERATIVA INFORMATICA LTDA</td>\n",
       "      <td>4920.0</td>\n",
       "      <td>0.0</td>\n",
       "    </tr>\n",
       "    <tr>\n",
       "      <th>2</th>\n",
       "      <td>2020-02-04 00:00:00</td>\n",
       "      <td>PSDB</td>\n",
       "      <td>NaN</td>\n",
       "      <td>LIDERANÇA DO PSDB</td>\n",
       "      <td>FORNECIMENTO DE ALIMENTAÇÃO DO PARLAMENTAR</td>\n",
       "      <td>NaN</td>\n",
       "      <td>AFC ALIMENTOS LTDA</td>\n",
       "      <td>511.0</td>\n",
       "      <td>0.0</td>\n",
       "    </tr>\n",
       "    <tr>\n",
       "      <th>3</th>\n",
       "      <td>2020-02-18 00:00:00</td>\n",
       "      <td>PSDB</td>\n",
       "      <td>NaN</td>\n",
       "      <td>LIDERANÇA DO PSDB</td>\n",
       "      <td>FORNECIMENTO DE ALIMENTAÇÃO DO PARLAMENTAR</td>\n",
       "      <td>NaN</td>\n",
       "      <td>AFC ALIMENTOS LTDA</td>\n",
       "      <td>186.0</td>\n",
       "      <td>0.0</td>\n",
       "    </tr>\n",
       "    <tr>\n",
       "      <th>4</th>\n",
       "      <td>2020-02-11 00:00:00</td>\n",
       "      <td>PSDB</td>\n",
       "      <td>NaN</td>\n",
       "      <td>LIDERANÇA DO PSDB</td>\n",
       "      <td>FORNECIMENTO DE ALIMENTAÇÃO DO PARLAMENTAR</td>\n",
       "      <td>NaN</td>\n",
       "      <td>ARTESANAL SERVICOS DE ALIMENTACAO E BUFFET EIRELI</td>\n",
       "      <td>740.0</td>\n",
       "      <td>0.0</td>\n",
       "    </tr>\n",
       "  </tbody>\n",
       "</table>\n",
       "</div>"
      ],
      "text/plain": [
       "            datemissao sgpartido sguf  txnomeparlamentar  \\\n",
       "0  2020-02-01 00:00:00      PSDB  NaN  LIDERANÇA DO PSDB   \n",
       "1  2020-02-13 00:00:00      PSDB  NaN  LIDERANÇA DO PSDB   \n",
       "2  2020-02-04 00:00:00      PSDB  NaN  LIDERANÇA DO PSDB   \n",
       "3  2020-02-18 00:00:00      PSDB  NaN  LIDERANÇA DO PSDB   \n",
       "4  2020-02-11 00:00:00      PSDB  NaN  LIDERANÇA DO PSDB   \n",
       "\n",
       "                                 txtdescricao txtdescricaoespecificacao  \\\n",
       "0        DIVULGAÇÃO DA ATIVIDADE PARLAMENTAR.                       NaN   \n",
       "1        DIVULGAÇÃO DA ATIVIDADE PARLAMENTAR.                       NaN   \n",
       "2  FORNECIMENTO DE ALIMENTAÇÃO DO PARLAMENTAR                       NaN   \n",
       "3  FORNECIMENTO DE ALIMENTAÇÃO DO PARLAMENTAR                       NaN   \n",
       "4  FORNECIMENTO DE ALIMENTAÇÃO DO PARLAMENTAR                       NaN   \n",
       "\n",
       "                                       txtfornecedor  vlrdocumento  vlrglosa  \n",
       "0                       CONTENT ASSESSORIA LTDA - ME         998.0       0.0  \n",
       "1              METROPOLE INTERATIVA INFORMATICA LTDA        4920.0       0.0  \n",
       "2                                 AFC ALIMENTOS LTDA         511.0       0.0  \n",
       "3                                 AFC ALIMENTOS LTDA         186.0       0.0  \n",
       "4  ARTESANAL SERVICOS DE ALIMENTACAO E BUFFET EIRELI         740.0       0.0  "
      ]
     },
     "metadata": {},
     "output_type": "display_data"
    }
   ],
   "source": [
    "dataframe = dataframe.drop(['codlegislatura', 'idedocumento', 'idecadastro', 'indtipodocumento', 'nucarteiraparlamentar', 'nudeputadoid', \n",
    "                'nulegislatura', 'numano', 'numespecificacaosubcota', 'numlote', 'nummes', 'numparcela', 'numressarcimento',\n",
    "                'numsubcota', 'txtcnpjcpf', 'txtnumero', 'txtpassageiro', 'txttrecho', 'vlrliquido', 'vlrrestituicao'], axis=1) \n",
    "display(dataframe[:5])"
   ]
  },
  {
   "cell_type": "code",
   "execution_count": 5,
   "id": "597b9ddd-6eca-44fe-a274-8e8c6cb6e827",
   "metadata": {},
   "outputs": [],
   "source": [
    "# Renomeação de colunas"
   ]
  },
  {
   "cell_type": "code",
   "execution_count": 6,
   "id": "314bbeb1-cee7-4a27-acf4-a18c02db7ca1",
   "metadata": {},
   "outputs": [
    {
     "name": "stdout",
     "output_type": "stream",
     "text": [
      "<class 'pandas.core.frame.DataFrame'>\n",
      "RangeIndex: 3855649 entries, 0 to 3855648\n",
      "Data columns (total 9 columns):\n",
      " #   Column                  Dtype  \n",
      "---  ------                  -----  \n",
      " 0   Data                    object \n",
      " 1   Partido                 object \n",
      " 2   Estado                  object \n",
      " 3   Nome Parlamentar        object \n",
      " 4   Descrição de Gasto      object \n",
      " 5   Especificação do Gasto  object \n",
      " 6   Fornecedor              object \n",
      " 7   Valor do Gasto          float64\n",
      " 8   Valor de Resstituição   float64\n",
      "dtypes: float64(2), object(7)\n",
      "memory usage: 264.7+ MB\n"
     ]
    }
   ],
   "source": [
    "dataframe.rename(columns={'datemissao': 'Data', 'sgpartido': 'Partido', 'sguf': 'Estado', 'txnomeparlamentar': 'Nome Parlamentar', \n",
    "                          'txtdescricao': 'Descrição de Gasto', 'txtdescricaoespecificacao': 'Especificação do Gasto', \n",
    "                          'txtfornecedor': 'Fornecedor', 'vlrdocumento': 'Valor do Gasto', 'vlrglosa': 'Valor de Resstituição'}, inplace=True)\n",
    "dataframe.info()"
   ]
  },
  {
   "cell_type": "code",
   "execution_count": 7,
   "id": "b894761f-8c9b-4c86-a5b8-913fbce94759",
   "metadata": {},
   "outputs": [],
   "source": [
    "# Filtrando datas inválidas para NoT (Not a Time), para que valores de datas que estejam incorretos não apareçam como data\n",
    "dataframe['Data'] = pd.to_datetime(dataframe['Data'], errors='coerce')\n",
    "\n",
    "# Como no arquivo temos valores fora de data existentes e criação de datas também falsas, filtramos as datas de 2009 à 2020 (que \n",
    "dataframe = dataframe[(dataframe['Data'] >= '2009-01-01') & (dataframe['Data'] <= '2020-12-31')]"
   ]
  },
  {
   "cell_type": "code",
   "execution_count": 8,
   "id": "78f2ad37-02b2-4cf8-b3de-0721c41b199b",
   "metadata": {},
   "outputs": [
    {
     "data": {
      "text/plain": [
       "array(['PSDB', 'PT', 'LIDMIN', 'NOVO', 'PDT', 'PODE', 'PP', 'PROS', 'PSD',\n",
       "       'PTB', 'SDD', 'DEM', 'REPUBLICANOS', 'CIDADANIA', 'PSOL', 'PSB',\n",
       "       'MDB', 'PCdoB', 'PL', 'PSC', 'PSL', 'SOLIDARIEDADE', 'LID.GOV-CD',\n",
       "       'AVANTE', 'PHS', 'PTN', 'PATRIOTA', 'LID.GOV-CN', 'PV', 'PMDB',\n",
       "       'ATHOS AVELINO', 'FERNANDO ESTIMA', 'JOÃO FONTES', 'LUIZ MOREIRA',\n",
       "       'PROFESSOR LUIZINHO', 'PP**', 'PRB', 'SD', 'PPS', 'REDE', 'PR',\n",
       "       'PEN', 'PATRI', 'PTC', 'PMN', 'PPL', 'PTdoB', 'S.PART.', 'PRTB',\n",
       "       'PRP', 'PSDC'], dtype=object)"
      ]
     },
     "execution_count": 8,
     "metadata": {},
     "output_type": "execute_result"
    }
   ],
   "source": [
    "dataframe['Partido'].unique()"
   ]
  },
  {
   "cell_type": "code",
   "execution_count": 9,
   "id": "86bbe57e-ecb4-4929-871d-46de38fdc283",
   "metadata": {},
   "outputs": [],
   "source": [
    "# Substituição de valores incorretos ou redundantes dentro da coluna de Partido"
   ]
  },
  {
   "cell_type": "code",
   "execution_count": 10,
   "id": "0a02ce56-a8d2-47ea-9ae9-de91a59d3fcd",
   "metadata": {},
   "outputs": [
    {
     "data": {
      "text/plain": [
       "array(['PSDB', 'PT', 'LID.MINORIA', 'NOVO', 'PDT', 'PODEMOS', 'PP',\n",
       "       'SOLIDARIEDADE', 'PSD', 'PTB', 'UNIÃO BRASIL', 'REPUBLICANOS',\n",
       "       'CIDADANIA', 'PSOL', 'PSB', 'MDB', 'PCdoB', 'PL', 'PSC',\n",
       "       'LID.GOVERNO-CD', 'AVANTE', 'PATRIOTA', 'LID.GOVERNO-CN', 'PV',\n",
       "       'REDE', 'PTC', 'PMN', 'SEM PARTIDO', 'PRTB', 'DC'], dtype=object)"
      ]
     },
     "execution_count": 10,
     "metadata": {},
     "output_type": "execute_result"
    }
   ],
   "source": [
    "dataframe['Partido'] = dataframe['Partido'].replace({'LIDMIN': 'LID.MINORIA', 'PODE': 'PODEMOS', 'PROS': 'SOLIDARIEDADE', 'SDD': 'SOLIDARIEDADE', 'DEM': 'UNIÃO BRASIL', \n",
    "                              'PSL': 'UNIÃO BRASIL', 'LID.GOV-CD': 'LID.GOVERNO-CD', 'PHS': 'PODEMOS', 'PTN': 'PODEMOS', 'LID.GOV-CN': 'LID.GOVERNO-CN',\n",
    "                              'PMDB': 'MDB', 'PP**': 'PP', 'PRB': 'REPUBLICANOS', 'SD': 'SOLIDARIEDADE', 'PPS': 'CIDADANIA', 'PR': 'PL', \n",
    "                              'PEN': 'PATRIOTA', 'PATRI': 'PATRIOTA', 'PPL': 'PCdoB', 'PTdoB': 'AVANTE', 'S.PART.': 'SEM PARTIDO', 'PRP': 'PATRIOTA', \n",
    "                              'PSDC': 'DC', 'ATHOS AVELINO': 'CIDADANIA', 'FERNANDO ESTIMA': 'PSDB', 'JOÃO FONTES': 'PSOL', 'LUIZ MOREIRA': 'PTB', \n",
    "                              'PROFESSOR LUIZINHO': 'PT'})\n",
    "dataframe['Partido'].unique()"
   ]
  },
  {
   "cell_type": "code",
   "execution_count": 11,
   "id": "78a2c03a-7db1-4cab-a6f4-ca1a670297b3",
   "metadata": {},
   "outputs": [
    {
     "data": {
      "text/plain": [
       "array([nan, 'ES', 'SP', 'PI', 'SE', 'BA', 'PR', 'RS', 'MG', 'SC', 'RJ',\n",
       "       'PE', 'AC', 'PB', 'PA', 'AM', 'MA', 'CE', 'GO', 'MS', 'RO', 'RN',\n",
       "       'TO', 'MT', 'RR', 'AL', 'DF', 'AP'], dtype=object)"
      ]
     },
     "execution_count": 11,
     "metadata": {},
     "output_type": "execute_result"
    }
   ],
   "source": [
    "dataframe['Estado'].unique()"
   ]
  },
  {
   "cell_type": "code",
   "execution_count": 12,
   "id": "37114c07-abe9-4440-b4bf-5758a9685e0e",
   "metadata": {},
   "outputs": [],
   "source": [
    "# Substituição de siglas de estados para nomes extensos"
   ]
  },
  {
   "cell_type": "code",
   "execution_count": 13,
   "id": "99ff18f8-f95d-4c4c-83a2-60bc7e5494ba",
   "metadata": {
    "scrolled": true
   },
   "outputs": [
    {
     "data": {
      "text/plain": [
       "array(['Não Informado', 'Espirito Santo', 'São Paulo', 'Piauí', 'Sergipe',\n",
       "       'Bahia', 'Paraná', 'Rio Grande do Sul', 'Minas Gerais',\n",
       "       'Santa Catarina', 'Rio de Janeiro', 'Pernambuco', 'Acre',\n",
       "       'Paraíba', 'Pará', 'Amazonas', 'Maranhão', 'Ceará', 'Goiás',\n",
       "       'Mato Grosso do Sul', 'Rondônia', 'Rio Grande do Norte',\n",
       "       'Tocantins', 'Mato Grosso', 'Roraima', 'Alagoas',\n",
       "       'Distrito Federal', 'Amapá'], dtype=object)"
      ]
     },
     "execution_count": 13,
     "metadata": {},
     "output_type": "execute_result"
    }
   ],
   "source": [
    "dataframe['Estado'] = dataframe['Estado'].replace({'ES': 'Espirito Santo', 'SP': 'São Paulo', 'PI': 'Piauí', 'SE': 'Sergipe', 'BA':'Bahia', 'PE': 'Pernambuco', 'PR': 'Paraná',\n",
    "                             'RS': 'Rio Grande do Sul', 'MG': 'Minas Gerais', 'SC': 'Santa Catarina', 'RJ': 'Rio de Janeiro', 'AC': 'Acre',\n",
    "                             'PB': 'Paraíba', 'AM': 'Amazonas', 'MA': 'Maranhão', 'CE': 'Ceará', 'GO': 'Goiás', 'MS': 'Mato Grosso do Sul',\n",
    "                             'RO': 'Rondônia', 'RN': 'Rio Grande do Norte', 'TO': 'Tocantins', 'MT': 'Mato Grosso', 'RR': 'Roraima',\n",
    "                             'AL': 'Alagoas', 'DF': 'Distrito Federal', 'AP': 'Amapá', 'PA': 'Pará'}).fillna('Não Informado')\n",
    "dataframe['Estado'].unique()"
   ]
  },
  {
   "cell_type": "code",
   "execution_count": 14,
   "id": "00f6b593-7f2e-4b2b-8314-97f774d7e8d6",
   "metadata": {},
   "outputs": [
    {
     "data": {
      "text/plain": [
       "array(['DIVULGAÇÃO DA ATIVIDADE PARLAMENTAR.',\n",
       "       'FORNECIMENTO DE ALIMENTAÇÃO DO PARLAMENTAR',\n",
       "       'MANUTENÇÃO DE ESCRITÓRIO DE APOIO À ATIVIDADE PARLAMENTAR',\n",
       "       'COMBUSTÍVEIS E LUBRIFICANTES.', 'PASSAGENS AÉREAS', 'TELEFONIA',\n",
       "       'LOCAÇÃO OU FRETAMENTO DE VEÍCULOS AUTOMOTORES',\n",
       "       'SERVIÇOS POSTAIS',\n",
       "       'CONSULTORIAS, PESQUISAS E TRABALHOS TÉCNICOS.',\n",
       "       'SERVIÇO DE SEGURANÇA PRESTADO POR EMPRESA ESPECIALIZADA.',\n",
       "       'Emissão Bilhete Aéreo',\n",
       "       'HOSPEDAGEM ,EXCETO DO PARLAMENTAR NO DISTRITO FEDERAL.',\n",
       "       'SERVIÇO DE TÁXI, PEDÁGIO E ESTACIONAMENTO',\n",
       "       'PARTICIPAÇÃO EM CURSO, PALESTRA OU EVENTO SIMILAR',\n",
       "       'LOCAÇÃO OU FRETAMENTO DE AERONAVES',\n",
       "       'PASSAGENS TERRESTRES, MARÍTIMAS OU FLUVIAIS',\n",
       "       'ASSINATURA DE PUBLICAÇÕES',\n",
       "       'LOCAÇÃO DE VEÍCULOS AUTOMOTORES OU FRETAMENTO DE EMBARCAÇÕES',\n",
       "       'LOCAÇÃO OU FRETAMENTO DE EMBARCAÇÕES',\n",
       "       'LOCOMOÇÃO, ALIMENTAÇÃO E  HOSPEDAGEM',\n",
       "       'AQUISIÇÃO DE MATERIAL DE ESCRITÓRIO.',\n",
       "       'AQUISIÇÃO OU LOC. DE SOFTWARE; SERV. POSTAIS; ASS.'], dtype=object)"
      ]
     },
     "execution_count": 14,
     "metadata": {},
     "output_type": "execute_result"
    }
   ],
   "source": [
    "dataframe['Descrição de Gasto'].unique()"
   ]
  },
  {
   "cell_type": "code",
   "execution_count": 15,
   "id": "1746696b-ec28-4489-a98a-846233b019d5",
   "metadata": {},
   "outputs": [],
   "source": [
    "# Substituição de textos com valores incorretos ou mal escritos"
   ]
  },
  {
   "cell_type": "code",
   "execution_count": 16,
   "id": "fb869802-9c7a-42aa-a25b-b5910e6ab426",
   "metadata": {},
   "outputs": [
    {
     "data": {
      "text/plain": [
       "array(['DIVULGAÇÃO DA ATIVIDADE PARLAMENTAR',\n",
       "       'FORNECIMENTO DE ALIMENTAÇÃO DO PARLAMENTAR',\n",
       "       'MANUTENÇÃO DE ESCRITÓRIO DE APOIO À ATIVIDADE PARLAMENTAR',\n",
       "       'COMBUSTÍVEIS E LUBRIFICANTES', 'PASSAGENS AÉREAS', 'TELEFONIA',\n",
       "       'LOCAÇÃO OU FRETAMENTO DE VEÍCULOS AUTOMOTORES',\n",
       "       'SERVIÇOS POSTAIS', 'CONSULTORIAS, PESQUISAS E TRABALHOS TÉCNICOS',\n",
       "       'SERVIÇO DE SEGURANÇA PRESTADO POR EMPRESA ESPECIALIZADA',\n",
       "       'EMISSÃO DE BILHETE AÉREO',\n",
       "       'HOSPEDAGEM, EXCETO DO PARLAMENTAR NO DISTRITO FEDERAL',\n",
       "       'SERVIÇO DE TÁXI, PEDÁGIO E ESTACIONAMENTO',\n",
       "       'PARTICIPAÇÃO EM CURSO, PALESTRA OU EVENTO SIMILAR',\n",
       "       'LOCAÇÃO OU FRETAMENTO DE AERONAVES',\n",
       "       'PASSAGENS TERRESTRES, MARÍTIMAS OU FLUVIAIS',\n",
       "       'ASSINATURA DE PUBLICAÇÕES',\n",
       "       'LOCAÇÃO DE VEÍCULOS AUTOMOTORES OU FRETAMENTO DE EMBARCAÇÕES',\n",
       "       'LOCAÇÃO OU FRETAMENTO DE EMBARCAÇÕES',\n",
       "       'LOCOMOÇÃO, ALIMENTAÇÃO E  HOSPEDAGEM',\n",
       "       'AQUISIÇÃO DE MATERIAL DE ESCRITÓRIO',\n",
       "       'AQUISIÇÃO OU LOC. DE SOFTWARE; SERV. POSTAIS; ASSISTÊNCIAS'],\n",
       "      dtype=object)"
      ]
     },
     "execution_count": 16,
     "metadata": {},
     "output_type": "execute_result"
    }
   ],
   "source": [
    "dataframe['Descrição de Gasto'] = dataframe['Descrição de Gasto'].replace({'DIVULGAÇÃO DA ATIVIDADE PARLAMENTAR.': 'DIVULGAÇÃO DA ATIVIDADE PARLAMENTAR', \n",
    "                                         'COMBUSTÍVEIS E LUBRIFICANTES.': 'COMBUSTÍVEIS E LUBRIFICANTES', \n",
    "                                         'CONSULTORIAS, PESQUISAS E TRABALHOS TÉCNICOS.': 'CONSULTORIAS, PESQUISAS E TRABALHOS TÉCNICOS', \n",
    "                                         'SERVIÇO DE SEGURANÇA PRESTADO POR EMPRESA ESPECIALIZADA.': 'SERVIÇO DE SEGURANÇA PRESTADO POR EMPRESA ESPECIALIZADA',\n",
    "                                         'HOSPEDAGEM ,EXCETO DO PARLAMENTAR NO DISTRITO FEDERAL.': 'HOSPEDAGEM, EXCETO DO PARLAMENTAR NO DISTRITO FEDERAL', \n",
    "                                         'AQUISIÇÃO DE MATERIAL DE ESCRITÓRIO.': 'AQUISIÇÃO DE MATERIAL DE ESCRITÓRIO',\n",
    "                                         'Emissão Bilhete Aéreo': 'EMISSÃO DE BILHETE AÉREO',\n",
    "                                         'AQUISIÇÃO OU LOC. DE SOFTWARE; SERV. POSTAIS; ASS.': 'AQUISIÇÃO OU LOC. DE SOFTWARE; SERV. POSTAIS; ASSISTÊNCIAS'})\n",
    "dataframe['Descrição de Gasto'].unique()"
   ]
  },
  {
   "cell_type": "code",
   "execution_count": 17,
   "id": "b0b96f07-4d90-4ee7-957b-2640af83a57f",
   "metadata": {},
   "outputs": [
    {
     "data": {
      "text/plain": [
       "array([nan, 'Veículos Automotores', 'Aeronaves', 'Sem especificações',\n",
       "       'Embarcações'], dtype=object)"
      ]
     },
     "execution_count": 17,
     "metadata": {},
     "output_type": "execute_result"
    }
   ],
   "source": [
    "dataframe['Especificação do Gasto'].unique()"
   ]
  },
  {
   "cell_type": "code",
   "execution_count": 18,
   "id": "c7fbd1d0-e719-4e9d-aa80-c498a8c654ef",
   "metadata": {},
   "outputs": [],
   "source": [
    "# Alterando valores nulos na coluna de Especificação do Gasto"
   ]
  },
  {
   "cell_type": "code",
   "execution_count": 19,
   "id": "b2f8a94b-1922-498f-96f7-4892f4e4efe8",
   "metadata": {},
   "outputs": [],
   "source": [
    "dataframe['Especificação do Gasto'] = dataframe['Especificação do Gasto'].replace({'Sem especificações': 'Sem Especificações'}).fillna('Sem Especificações')"
   ]
  },
  {
   "cell_type": "code",
   "execution_count": 42,
   "id": "b78566fe-6cdd-49e4-89dc-292ef1a1a6f5",
   "metadata": {
    "jp-MarkdownHeadingCollapsed": true
   },
   "outputs": [],
   "source": [
    "dataframe.to_csv('tratamentoCotasParlamentares2.0.csv', index='False')"
   ]
  },
  {
   "cell_type": "code",
   "execution_count": null,
   "id": "829180ed-35f2-4d09-9018-cbe62064c1c1",
   "metadata": {},
   "outputs": [],
   "source": []
  }
 ],
 "metadata": {
  "kernelspec": {
   "display_name": "Python [conda env:base] *",
   "language": "python",
   "name": "conda-base-py"
  },
  "language_info": {
   "codemirror_mode": {
    "name": "ipython",
    "version": 3
   },
   "file_extension": ".py",
   "mimetype": "text/x-python",
   "name": "python",
   "nbconvert_exporter": "python",
   "pygments_lexer": "ipython3",
   "version": "3.12.7"
  }
 },
 "nbformat": 4,
 "nbformat_minor": 5
}
